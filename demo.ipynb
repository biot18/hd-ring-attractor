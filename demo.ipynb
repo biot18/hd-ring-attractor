{
 "cells": [
  {
   "cell_type": "code",
   "execution_count": 58,
   "id": "fed3074f",
   "metadata": {},
   "outputs": [],
   "source": [
    "import sys\n",
    "sys.path.append(\"src\")"
   ]
  },
  {
   "cell_type": "code",
   "execution_count": 59,
   "id": "616dee25",
   "metadata": {},
   "outputs": [
    {
     "data": {
      "text/plain": [
       "'c:\\\\Users\\\\reo\\\\OneDrive - The University of Tokyo\\\\github'"
      ]
     },
     "execution_count": 59,
     "metadata": {},
     "output_type": "execute_result"
    }
   ],
   "source": [
    "%pwd"
   ]
  },
  {
   "cell_type": "code",
   "execution_count": 60,
   "id": "671c74ad",
   "metadata": {},
   "outputs": [
    {
     "name": "stdout",
     "output_type": "stream",
     "text": [
      "['demo.ipynb', 'environment.yml', 'Figure_1.png', 'notebools', 'requirements.txt', 'src', '__pycache__']\n"
     ]
    }
   ],
   "source": [
    "import os\n",
    "print(os.listdir())"
   ]
  },
  {
   "cell_type": "code",
   "execution_count": 65,
   "id": "ad733f49",
   "metadata": {},
   "outputs": [
    {
     "name": "stdout",
     "output_type": "stream",
     "text": [
      "W min/max: -11.283606313247597 43.29622808100791\n",
      "row_sums min: -2.4158453015843406e-13\n",
      "row_sums max: 1.652011860642233e-13\n",
      "OK: all row sums ≃ 0 within tol= 1e-06\n"
     ]
    }
   ],
   "source": [
    "from network import build_vonmises_weights\n",
    "W = build_vonmises_weights()\n",
    "print(\"W min/max:\", W.min(), W.max())\n",
    "import numpy as np\n",
    "\n",
    "row_sums = W.sum(axis=1)\n",
    "print(\"row_sums min:\", row_sums.min())\n",
    "print(\"row_sums max:\", row_sums.max())\n",
    "tol = 1e-6\n",
    "if np.all(np.abs(row_sums) < tol):\n",
    "    print(\"OK: all row sums ≃ 0 within tol=\", tol)\n",
    "else:\n",
    "    bad_idxs = np.where(np.abs(row_sums) >= tol)[0]\n",
    "    print(f\"WARNING: {len(bad_idxs)} rows exceed tol:\", bad_idxs[:10])"
   ]
  },
  {
   "cell_type": "code",
   "execution_count": 68,
   "id": "d8173d68",
   "metadata": {},
   "outputs": [
    {
     "name": "stdout",
     "output_type": "stream",
     "text": [
      "Peak activity at t = 340\n"
     ]
    }
   ],
   "source": [
    "# 例: 多くのニューロンが発火している時点を探す\n",
    "activity = records.sum(axis=1)        # 各時刻の全ニューロン合計発火量\n",
    "t_peak = np.argmax(activity)          # 一番活動が高い時刻\n",
    "print(\"Peak activity at t =\", t_peak)\n",
    "\n",
    "spikes    = records[t_peak]\n",
    "occupancy = np.ones_like(spikes)"
   ]
  },
  {
   "cell_type": "code",
   "execution_count": 69,
   "id": "4ce5a1fb",
   "metadata": {},
   "outputs": [
    {
     "name": "stdout",
     "output_type": "stream",
     "text": [
      "nan\n"
     ]
    },
    {
     "data": {
      "text/plain": [
       "'\\n# ヒートマップ\\nplt.figure(figsize=(8,3))\\nplt.imshow(records.T, aspect=\\'auto\\', origin=\\'lower\\',\\n           extent=[0, records.shape[0]*dt, 0, 360],\\n           vmin=0, vmax=records.max()*0.8)\\nplt.xlabel(\"Time (ms)\")\\nplt.ylabel(\"Neuron angle (deg)\")\\nplt.title(\"Activity Heatmap\")\\nplt.colorbar(label=\"Firing rate\")\\nplt.show()\\n'"
      ]
     },
     "execution_count": 69,
     "metadata": {},
     "output_type": "execute_result"
    }
   ],
   "source": [
    "import sys, os\n",
    "sys.path.insert(0, os.path.join(os.getcwd(), \"src\"))\n",
    "\n",
    "from simulate import run_simulation\n",
    "import matplotlib.pyplot as plt\n",
    "from config import dt\n",
    "\n",
    "# シミュレーション再実行（安定パラメータで）\n",
    "theta, records = run_simulation(noise_sigma=0.01, bump_center_speed=0.005)\n",
    "print(records.max())\n",
    "\"\"\"\n",
    "# ヒートマップ\n",
    "plt.figure(figsize=(8,3))\n",
    "plt.imshow(records.T, aspect='auto', origin='lower',\n",
    "           extent=[0, records.shape[0]*dt, 0, 360],\n",
    "           vmin=0, vmax=records.max()*0.8)\n",
    "plt.xlabel(\"Time (ms)\")\n",
    "plt.ylabel(\"Neuron angle (deg)\")\n",
    "plt.title(\"Activity Heatmap\")\n",
    "plt.colorbar(label=\"Firing rate\")\n",
    "plt.show()\n",
    "\"\"\""
   ]
  },
  {
   "cell_type": "code",
   "execution_count": null,
   "id": "8a0049ef",
   "metadata": {},
   "outputs": [],
   "source": [
    "import numpy as np\n",
    "\n",
    "print(\"rate_smooth min/max:\", np.nanmin(rate_smooth), np.nanmax(rate_smooth))\n",
    "print(\"NaN count:\", np.isnan(rate_smooth).sum())\n",
    "print(\"Inf count:\", np.isinf(rate_smooth).sum())"
   ]
  },
  {
   "cell_type": "code",
   "execution_count": null,
   "id": "5781f163",
   "metadata": {},
   "outputs": [],
   "source": [
    "bad_idx = np.where(~np.isfinite(rate_smooth))[0]\n",
    "print(\"Bad bins:\", bad_idx)\n"
   ]
  },
  {
   "cell_type": "code",
   "execution_count": null,
   "id": "6fb2b76c",
   "metadata": {},
   "outputs": [],
   "source": [
    "print(records.max())"
   ]
  },
  {
   "cell_type": "code",
   "execution_count": null,
   "id": "42191658",
   "metadata": {},
   "outputs": [],
   "source": [
    "from analysis.tuning import compute_tuning, fit_vonmises\n",
    "from viz import plot_tuning_curve\n",
    "\n",
    "rate_smooth = compute_tuning(spikes, theta, occupancy, sigma=6)\n",
    "# 前処理：NaN/Inf をクリップ\n",
    "rate_smooth = np.nan_to_num(rate_smooth, nan=0.0, posinf=np.nanmax(rate_smooth))\n",
    "rate_smooth = np.clip(rate_smooth, 0, np.nanpercentile(rate_smooth, 99))\n",
    "\n",
    "# von Mises フィット\n",
    "valid = np.isfinite(rate_smooth)\n",
    "mu, kappa, A, B = fit_vonmises(rate_smooth[valid], theta[valid])\n",
    "print(f\"μ={np.degrees(mu):.1f}°, κ={kappa:.2f}\")\n",
    "\n",
    "# プロット\n",
    "plot_tuning_curve(theta, rate_smooth, params=(mu, kappa, A, B))"
   ]
  }
 ],
 "metadata": {
  "kernelspec": {
   "display_name": "ringattr",
   "language": "python",
   "name": "python3"
  },
  "language_info": {
   "codemirror_mode": {
    "name": "ipython",
    "version": 3
   },
   "file_extension": ".py",
   "mimetype": "text/x-python",
   "name": "python",
   "nbconvert_exporter": "python",
   "pygments_lexer": "ipython3",
   "version": "3.9.21"
  }
 },
 "nbformat": 4,
 "nbformat_minor": 5
}
